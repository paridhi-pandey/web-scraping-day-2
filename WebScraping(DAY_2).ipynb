{
  "nbformat": 4,
  "nbformat_minor": 0,
  "metadata": {
    "colab": {
      "provenance": [],
      "authorship_tag": "ABX9TyM5WF7zNK/EG3ut/ADVW/w7",
      "include_colab_link": true
    },
    "kernelspec": {
      "name": "python3",
      "display_name": "Python 3"
    },
    "language_info": {
      "name": "python"
    }
  },
  "cells": [
    {
      "cell_type": "markdown",
      "metadata": {
        "id": "view-in-github",
        "colab_type": "text"
      },
      "source": [
        "<a href=\"https://colab.research.google.com/github/paridhi-pandey/web-scraping-day-2/blob/main/WebScraping(DAY_2).ipynb\" target=\"_parent\"><img src=\"https://colab.research.google.com/assets/colab-badge.svg\" alt=\"Open In Colab\"/></a>"
      ]
    },
    {
      "cell_type": "code",
      "execution_count": null,
      "metadata": {
        "id": "YnEejMlbv8kV"
      },
      "outputs": [],
      "source": [
        "import requests\n",
        "from bs4 import BeautifulSoup"
      ]
    },
    {
      "cell_type": "code",
      "source": [
        "url = \"https://www.imdb.com/chart/top/\"\n",
        "headers = {\"Accept-Language\": \"en-US,en;q=0.5\"}  # To avoid getting a non-English version\n",
        "\n",
        "response = requests.get(url, headers=headers)\n",
        "soup = BeautifulSoup(response.content, 'html.parser')\n"
      ],
      "metadata": {
        "id": "D53etoJXwHei"
      },
      "execution_count": null,
      "outputs": []
    },
    {
      "cell_type": "code",
      "source": [
        "# Find all movie title tags\n",
        "movies = soup.select(\"td.titleColumn a\")\n",
        "\n",
        "# Print the top 10 movie titles\n",
        "for i, movie in enumerate(movies[:10], 1):  # Top 10 for brevity\n",
        "    print(f\"{i}. {movie.text}\")"
      ],
      "metadata": {
        "id": "q7dGI4RowLYy"
      },
      "execution_count": null,
      "outputs": []
    },
    {
      "cell_type": "code",
      "source": [
        "\n",
        "# Step 2: Import libraries\n",
        "import requests\n",
        "from bs4 import BeautifulSoup\n",
        "\n",
        "# Step 3: Send request to IMDb with appropriate headers\n",
        "url = \"https://www.imdb.com/chart/top/\"\n",
        "headers = {\n",
        "    \"Accept-Language\": \"en-US,en;q=0.9\",\n",
        "    \"User-Agent\": \"Mozilla/5.0 (Windows NT 10.0; Win64; x64)\"\n",
        "}\n",
        "response = requests.get(url, headers=headers)\n",
        "\n",
        "# Step 4: Parse the HTML content\n",
        "soup = BeautifulSoup(response.text, 'html.parser')\n",
        "\n",
        "# Step 5: Extract movie titles\n",
        "movies = soup.select(\"tbody.lister-list tr\")\n",
        "\n",
        "# Step 6: Print top 10 movie titles\n",
        "for i, movie in enumerate(movies[:10], 1):\n",
        "    title = movie.select_one(\"td.titleColumn a\").text\n",
        "    print(f\"{i}. {title}\")\n"
      ],
      "metadata": {
        "id": "4GtbHmmGwZ9O"
      },
      "execution_count": null,
      "outputs": []
    },
    {
      "cell_type": "code",
      "source": [
        "# Step 1: Install required libraries\n",
        "!pip install requests beautifulsoup4\n",
        "\n",
        "# Step 2: Import modules\n",
        "import requests\n",
        "from bs4 import BeautifulSoup\n",
        "\n",
        "# Step 3: Make a request with headers\n",
        "url = \"https://www.imdb.com/chart/top/\"\n",
        "headers = {\n",
        "    \"Accept-Language\": \"en-US,en;q=0.9\",\n",
        "    \"User-Agent\": \"Mozilla/5.0 (Windows NT 10.0; Win64; x64)\"\n",
        "}\n",
        "\n",
        "response = requests.get(url, headers=headers)\n",
        "\n",
        "# Check if response is OK\n",
        "print(\"Status Code:\", response.status_code)\n",
        "\n",
        "# Optional: Print the first 500 characters of the page\n",
        "print(response.text[:500])  # preview to ensure it's HTML\n",
        "\n",
        "# Step 4: Parse HTML with BeautifulSoup\n",
        "soup = BeautifulSoup(response.text, 'html.parser')\n",
        "\n",
        "# Step 5: Check structure of parsed soup\n",
        "print(\"Checking for movie table...\")\n",
        "table = soup.find(\"tbody\", class_=\"lister-list\")\n",
        "if not table:\n",
        "    print(\"Movie table not found!\")\n",
        "else:\n",
        "    print(\"Movie table found. Extracting movies...\")\n",
        "\n",
        "    rows = table.find_all(\"tr\")\n",
        "    for i, row in enumerate(rows[:10], 1):  # Show only top 10\n",
        "        title = row.find(\"td\", class_=\"titleColumn\").a.text.strip()\n",
        "        print(f\"{i}. {title}\")\n"
      ],
      "metadata": {
        "colab": {
          "base_uri": "https://localhost:8080/"
        },
        "id": "swYa4f93wnuF",
        "outputId": "62c8b7de-c562-4e20-ea89-5cdf5ab50cf9"
      },
      "execution_count": null,
      "outputs": [
        {
          "output_type": "stream",
          "name": "stdout",
          "text": [
            "Requirement already satisfied: requests in /usr/local/lib/python3.11/dist-packages (2.32.3)\n",
            "Requirement already satisfied: beautifulsoup4 in /usr/local/lib/python3.11/dist-packages (4.13.4)\n",
            "Requirement already satisfied: charset-normalizer<4,>=2 in /usr/local/lib/python3.11/dist-packages (from requests) (3.4.2)\n",
            "Requirement already satisfied: idna<4,>=2.5 in /usr/local/lib/python3.11/dist-packages (from requests) (3.10)\n",
            "Requirement already satisfied: urllib3<3,>=1.21.1 in /usr/local/lib/python3.11/dist-packages (from requests) (2.4.0)\n",
            "Requirement already satisfied: certifi>=2017.4.17 in /usr/local/lib/python3.11/dist-packages (from requests) (2025.6.15)\n",
            "Requirement already satisfied: soupsieve>1.2 in /usr/local/lib/python3.11/dist-packages (from beautifulsoup4) (2.7)\n",
            "Requirement already satisfied: typing-extensions>=4.0.0 in /usr/local/lib/python3.11/dist-packages (from beautifulsoup4) (4.14.1)\n",
            "Status Code: 200\n",
            "<!DOCTYPE html><html lang=\"en-US\" xmlns:og=\"http://opengraphprotocol.org/schema/\" xmlns:fb=\"http://www.facebook.com/2008/fbml\"><head><meta charSet=\"utf-8\"/><meta name=\"viewport\" content=\"width=device-width\"/><script>if(typeof uet === 'function'){ uet('bb', 'LoadTitle', {wb: 1}); }</script><script>window.addEventListener('load', (event) => {\n",
            "        if (typeof window.csa !== 'undefined' && typeof window.csa === 'function') {\n",
            "            var csaLatencyPlugin = window.csa('Content', {\n",
            "             \n",
            "Checking for movie table...\n",
            "Movie table not found!\n"
          ]
        }
      ]
    }
  ]
}